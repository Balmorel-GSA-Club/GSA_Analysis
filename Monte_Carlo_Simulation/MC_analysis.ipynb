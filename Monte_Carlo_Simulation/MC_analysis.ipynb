{
 "cells": [
  {
   "cell_type": "code",
   "execution_count": 15,
   "metadata": {},
   "outputs": [
    {
     "name": "stdout",
     "output_type": "stream",
     "text": [
      "env: PATH=/appl/gams/47.6.0:$PATH\n",
      "env: LD_LIBRARY_PATH=/appl/gams/47.6.0:$LD_LIBRARY_PATH\n"
     ]
    }
   ],
   "source": [
    "%env PATH=/appl/gams/47.6.0:$PATH\n",
    "%env LD_LIBRARY_PATH=/appl/gams/47.6.0:$LD_LIBRARY_PATH"
   ]
  },
  {
   "cell_type": "code",
   "execution_count": 16,
   "metadata": {},
   "outputs": [],
   "source": [
    "\n",
    "import Functions_analysis as FA\n",
    "import os\n",
    "\n",
    "YEAR = '2050'\n",
    "\n",
    "Nordics = ['DENMARK', 'NORWAY', 'SWEDEN', 'FINLAND']\n",
    "EU_North = ['DENMARK', 'NORWAY', 'SWEDEN', 'FINLAND', 'ESTONIA', 'LATVIA', 'LITHUANIA']\n",
    "EU_West = ['FRANCE', 'GERMANY', 'NETHERLANDS', 'UNITED-KINGDOM', 'BELGIUM', 'LUXEMBOURG', 'AUSTRIA', 'SWITZERLAND', 'IRELAND']\n",
    "EU_East = ['POLAND', 'CZECH_REPUBLIC', 'SLOVAKIA', 'ROMANIA', 'BULGARIA', 'HUNGARY']\n",
    "EU_South = ['ITALY', 'SPAIN', 'PORTUGAL', 'SLOVENIA', 'CROATIA', 'ALBANIA', 'MALTA', 'CYPRUS', 'BOSNIA_AND_HERZEGOVINA', 'MONTENEGRO', 'NORTH_MACEDONIA', 'SERBIA', 'GREECE']\n",
    "\n",
    "Input_data_path = f\"../DATA/Input_data_EU_{YEAR}.gdx\"\n",
    "MainResults_path = f\"../DATA/MainResults_EU_{YEAR}.gdx\"\n",
    "MonteCarlo_path = f\"../DATA/MonteCarlo_EU_{YEAR}.gdx\"\n",
    "\n",
    "MainResults_path_NoH2 = f\"../DATA/MainResults_EU_{YEAR}_NoH2.gdx\"\n",
    "MainResults_path_NoH2Import = f\"../DATA/MainResults_EU_{YEAR}_NoH2Import.gdx\"\n",
    "\n",
    "MonteCarlo_path_NoH2 = f\"../DATA/MonteCarlo_EU_{YEAR}_NoH2.gdx\"\n",
    "MonteCarlo_path_NoH2Import = f\"../DATA/MonteCarlo_EU_{YEAR}_NoH2Import.gdx\""
   ]
  },
  {
   "cell_type": "code",
   "execution_count": 17,
   "metadata": {},
   "outputs": [],
   "source": [
    "def Hydrogen_Analysis(MainResults_path, MonteCarlo_path, YEAR, Countries_from) :\n",
    "    # Import results of the Main Result file\n",
    "    df_PRO_BASE, df_CAP_BASE, df_XH2_CAP_BASE, df_XH2_FLOW_BASE = FA.Import_MainResults(MainResults_path)\n",
    "    \n",
    "    # Export all hydrogen results\n",
    "    df_H2_CAP_BASE, df_H2_CAP_GREEN_BASE, df_H2_CAP_GREEN_tot_BASE, df_H2_CAP_BLUE_BASE, df_H2_CAP_BLUE_tot_BASE, df_H2_CAP_STO_BASE, df_H2_CAP_STO_tot_BASE = FA.H2_CAP(df_CAP_BASE, Countries_from, YEAR)\n",
    "    df_H2_PRO_BASE, df_H2_PRO_GREEN_BASE, df_H2_PRO_GREEN_tot_BASE, df_H2_PRO_BLUE_BASE, df_H2_PRO_BLUE_tot_BASE, df_H2_PRO_STO_BASE, df_H2_PRO_STO_tot_BASE = FA.H2_PRO(df_PRO_BASE, df_CAP_BASE, Countries_from, YEAR)\n",
    "    dict_df_XH2_CAP_TO_BASE = FA.XH2(df_XH2_CAP_BASE, Countries_from, YEAR, 'dict')\n",
    "    dict_df_XH2_FLOW_TO_BASE = FA.XH2(df_XH2_FLOW_BASE, Countries_from, YEAR, 'dict')\n",
    "        \n",
    "    # Import resuls of the MonteCarlo file\n",
    "    df_PRO_scen, df_CAP_scen, df_XH2_CAP_scen, df_XH2_FLOW_scen, scen = FA.Import_MonteCarlo(MonteCarlo_path)\n",
    "    \n",
    "    # Export all hydrogen results\n",
    "    df_H2_CAP_scen, df_H2_CAP_GREEN_scen, df_H2_CAP_BLUE_scen, df_H2_CAP_STO_scen = FA.H2_CAP_scen(df_CAP_scen, scen, Countries_from, YEAR)\n",
    "    df_H2_PRO_scen, df_H2_PRO_GREEN_scen, df_H2_PRO_BLUE_scen, df_H2_PRO_STO_scen = FA.H2_PRO_scen(df_PRO_scen, df_CAP_scen, scen, Countries_from, YEAR)\n",
    "    df_XH2_CAP_tot_scen, dict_df_XH2_CAP_TO_scen = FA.XH2_scen(df_XH2_CAP_scen, scen, Countries_from, YEAR, 'dict')\n",
    "    df_XH2_FLOW_tot_scen, dict_df_XH2_FLOW_TO_scen = FA.XH2_scen(df_XH2_FLOW_scen, scen, Countries_from, YEAR, 'dict')\n",
    "    \n",
    "    ECDF_Hist_PRO = FA.ECDF_Hist_PRO(df_H2_PRO_GREEN_scen, df_H2_PRO_BLUE_scen, df_H2_PRO_STO_scen, df_H2_PRO_GREEN_tot_BASE, df_H2_PRO_BLUE_tot_BASE, df_H2_PRO_STO_tot_BASE, Countries_from, YEAR)\n",
    "    ECDF_Hist_CAP = FA.ECDF_Hist_CAP(df_H2_CAP_GREEN_scen, df_H2_CAP_BLUE_scen, df_H2_CAP_GREEN_tot_BASE, df_H2_CAP_BLUE_tot_BASE, Countries_from, YEAR)\n",
    "    Violin_PRO = FA.Violin_PRO(df_H2_PRO_GREEN_scen, df_H2_PRO_BLUE_scen, df_H2_PRO_STO_scen, df_H2_PRO_GREEN_tot_BASE, df_H2_PRO_BLUE_tot_BASE, df_H2_PRO_STO_tot_BASE, Countries_from, YEAR)\n",
    "    Violin_CAP = FA.Violin_CAP(df_H2_CAP_GREEN_scen, df_H2_CAP_BLUE_scen, df_H2_CAP_STO_scen, df_H2_CAP_GREEN_tot_BASE, df_H2_CAP_BLUE_tot_BASE, df_H2_CAP_STO_tot_BASE, Countries_from, YEAR)\n",
    "    BoxPlot_CAP = FA.BoxPlot_Transmission(dict_df_XH2_CAP_TO_BASE, dict_df_XH2_CAP_TO_scen, Countries_from, YEAR, \"Capacity\")\n",
    "    BoxPlot_FLOW = FA.BoxPlot_Transmission(dict_df_XH2_FLOW_TO_BASE, dict_df_XH2_FLOW_TO_scen, Countries_from, YEAR, \"Flow\")"
   ]
  },
  {
   "cell_type": "code",
   "execution_count": 18,
   "metadata": {},
   "outputs": [],
   "source": [
    "def Hydrogen_Setups_Analysis(MainResults_path, MainResults_path_NoH2, MainResults_path_NoH2Import, MonteCarlo_path, MonteCarlo_path_NoH2, MonteCarlo_path_NoH2Import, YEAR, Countries_from) :\n",
    "    # Import results of the Main Result file\n",
    "    df_PRO_BASE, df_CAP_BASE, df_XH2_CAP_BASE, df_XH2_FLOW_BASE = FA.Import_MainResults(MainResults_path)\n",
    "    df_PRO_BASE_NoH2, df_CAP_BASE_NoH2, df_XH2_CAP_BASE_NoH2, df_XH2_FLOW_BASE_NoH2 = FA.Import_MainResults(MainResults_path_NoH2)\n",
    "    df_PRO_BASE_NoH2Import, df_CAP_BASE_NoH2Import, df_XH2_CAP_BASE_NoH2Import, df_XH2_FLOW_BASE_NoH2Import = FA.Import_MainResults(MainResults_path_NoH2Import)\n",
    "    \n",
    "    # Export all hydrogen results\n",
    "    # Base case\n",
    "    df_H2_CAP_BASE, df_H2_CAP_GREEN_BASE, df_H2_CAP_GREEN_tot_BASE, df_H2_CAP_BLUE_BASE, df_H2_CAP_BLUE_tot_BASE, df_H2_CAP_STO_BASE, df_H2_CAP_STO_tot_BASE = FA.H2_CAP(df_CAP_BASE, Countries_from, YEAR)\n",
    "    df_H2_PRO_BASE, df_H2_PRO_GREEN_BASE, df_H2_PRO_GREEN_tot_BASE, df_H2_PRO_BLUE_BASE, df_H2_PRO_BLUE_tot_BASE, df_H2_PRO_STO_BASE, df_H2_PRO_STO_tot_BASE = FA.H2_PRO(df_PRO_BASE, df_CAP_BASE, Countries_from, YEAR)\n",
    "    XH2_CAP_TO_BASE = FA.XH2(df_XH2_CAP_BASE, Countries_from, YEAR, 'total')\n",
    "    XH2_FLOW_TO_BASE = FA.XH2(df_XH2_FLOW_BASE, Countries_from, YEAR, 'total')\n",
    "    # No H2 case\n",
    "    df_H2_CAP_NoH2, df_H2_CAP_GREEN_NoH2, df_H2_CAP_GREEN_tot_NoH2, df_H2_CAP_BLUE_NoH2, df_H2_CAP_BLUE_tot_NoH2, df_H2_CAP_STO_NoH2, df_H2_CAP_STO_tot_NoH2 = FA.H2_CAP(df_CAP_BASE_NoH2, Countries_from, YEAR)\n",
    "    df_H2_PRO_NoH2, df_H2_PRO_GREEN_NoH2, df_H2_PRO_GREEN_tot_NoH2, df_H2_PRO_BLUE_NoH2, df_H2_PRO_BLUE_tot_NoH2, df_H2_PRO_STO_NoH2, df_H2_PRO_STO_tot_NoH2 = FA.H2_PRO(df_PRO_BASE_NoH2, df_CAP_BASE_NoH2, Countries_from, YEAR)\n",
    "    XH2_CAP_TO_NoH2 = FA.XH2(df_XH2_CAP_BASE_NoH2, Countries_from, YEAR, 'total')\n",
    "    XH2_FLOW_TO_NoH2 = FA.XH2(df_XH2_FLOW_BASE_NoH2, Countries_from, YEAR, 'total')\n",
    "    # No H2 Import case\n",
    "    df_H2_CAP_NoH2Import, df_H2_CAP_GREEN_NoH2Import, df_H2_CAP_GREEN_tot_NoH2Import, df_H2_CAP_BLUE_NoH2Import, df_H2_CAP_BLUE_tot_NoH2Import, df_H2_CAP_STO_NoH2Import, df_H2_CAP_STO_tot_NoH2Import = FA.H2_CAP(df_CAP_BASE_NoH2Import, Countries_from, YEAR)\n",
    "    df_H2_PRO_NoH2Import, df_H2_PRO_GREEN_NoH2Import, df_H2_PRO_GREEN_tot_NoH2Import, df_H2_PRO_BLUE_NoH2Import, df_H2_PRO_BLUE_tot_NoH2Import, df_H2_PRO_STO_NoH2Import, df_H2_PRO_STO_tot_NoH2Import = FA.H2_PRO(df_PRO_BASE_NoH2Import, df_CAP_BASE_NoH2Import, Countries_from, YEAR)\n",
    "    XH2_CAP_TO_NoH2Import = FA.XH2(df_XH2_CAP_BASE_NoH2Import, Countries_from, YEAR, 'total')\n",
    "    XH2_FLOW_TO_NoH2Import = FA.XH2(df_XH2_FLOW_BASE_NoH2Import, Countries_from, YEAR, 'total')\n",
    "    \n",
    "    # Import resuls of the MonteCarlo file\n",
    "    df_PRO_BASE_scen, df_CAP_BASE_scen, df_XH2_CAP_BASE_scen, df_XH2_FLOW_BASE_scen, scen = FA.Import_MonteCarlo(MonteCarlo_path)\n",
    "    df_PRO_NoH2_scen, df_CAP_NoH2_scen, df_XH2_CAP_NoH2_scen, df_XH2_FLOW_NoH2_scen, scen = FA.Import_MonteCarlo(MonteCarlo_path_NoH2)\n",
    "    df_PRO_NoH2Import_scen, df_CAP_NoH2Import_scen, df_XH2_CAP_NoH2Import_scen, df_XH2_FLOW_NoH2Import_scen, scen = FA.Import_MonteCarlo(MonteCarlo_path_NoH2Import)\n",
    "    \n",
    "    # Export all hydrogen results\n",
    "    # Base case\n",
    "    df_H2_CAP_BASE_scen, df_H2_CAP_GREEN_BASE_scen, df_H2_CAP_BLUE_BASE_scen, df_H2_CAP_STO_BASE_scen = FA.H2_CAP_scen(df_CAP_BASE_scen, scen, Countries_from, YEAR)\n",
    "    df_H2_PRO_BASE_scen, df_H2_PRO_GREEN_BASE_scen, df_H2_PRO_BLUE_BASE_scen, df_H2_PRO_STO_BASE_scen = FA.H2_PRO_scen(df_PRO_BASE_scen, df_CAP_BASE_scen, scen, Countries_from, YEAR)\n",
    "    df_XH2_CAP_tot_BASE_scen = FA.XH2_scen(df_XH2_CAP_BASE_scen, scen, Countries_from, YEAR, 'total')\n",
    "    df_XH2_FLOW_tot_BASE_scen = FA.XH2_scen(df_XH2_FLOW_BASE_scen, scen, Countries_from, YEAR, 'total')\n",
    "    # No H2 case\n",
    "    df_H2_CAP_NoH2_scen, df_H2_CAP_GREEN_NoH2_scen, df_H2_CAP_BLUE_NoH2_scen, df_H2_CAP_STO_NoH2_scen = FA.H2_CAP_scen(df_CAP_NoH2_scen, scen, Countries_from, YEAR)\n",
    "    df_H2_PRO_NoH2_scen, df_H2_PRO_GREEN_NoH2_scen, df_H2_PRO_BLUE_NoH2_scen, df_H2_PRO_STO_NoH2_scen = FA.H2_PRO_scen(df_PRO_NoH2_scen, df_CAP_NoH2_scen, scen, Countries_from, YEAR)\n",
    "    df_XH2_CAP_tot_NoH2_scen = FA.XH2_scen(df_XH2_CAP_NoH2_scen, scen, Countries_from, YEAR, 'total')\n",
    "    df_XH2_FLOW_tot_NoH2_scen = FA.XH2_scen(df_XH2_FLOW_NoH2_scen, scen, Countries_from, YEAR, 'total')\n",
    "    # No H2 Import case\n",
    "    df_H2_CAP_NoH2Import_scen, df_H2_CAP_GREEN_NoH2Import_scen, df_H2_CAP_BLUE_NoH2Import_scen, df_H2_CAP_STO_NoH2Import_scen = FA.H2_CAP_scen(df_CAP_NoH2Import_scen, scen, Countries_from, YEAR)\n",
    "    df_H2_PRO_NoH2Import_scen, df_H2_PRO_GREEN_NoH2Import_scen, df_H2_PRO_BLUE_NoH2Import_scen, df_H2_PRO_STO_NoH2Import_scen = FA.H2_PRO_scen(df_PRO_NoH2Import_scen, df_CAP_NoH2Import_scen, scen, Countries_from, YEAR)\n",
    "    df_XH2_CAP_tot_NoH2Import_scen = FA.XH2_scen(df_XH2_CAP_NoH2Import_scen, scen, Countries_from, YEAR, 'total')\n",
    "    df_XH2_FLOW_tot_NoH2Import_scen = FA.XH2_scen(df_XH2_FLOW_NoH2Import_scen, scen, Countries_from, YEAR, 'total')\n",
    "    \n",
    "    FA.Violin_Setups(df_H2_CAP_GREEN_BASE_scen, df_H2_CAP_GREEN_NoH2_scen, df_H2_CAP_GREEN_NoH2Import_scen, df_H2_CAP_GREEN_tot_BASE, df_H2_CAP_GREEN_tot_NoH2, df_H2_CAP_GREEN_tot_NoH2Import, Countries_from, YEAR, \"Green Capacity\")\n",
    "    FA.Violin_Setups(df_H2_CAP_BLUE_BASE_scen, df_H2_CAP_BLUE_NoH2_scen, df_H2_CAP_BLUE_NoH2Import_scen, df_H2_CAP_BLUE_tot_BASE, df_H2_CAP_BLUE_tot_NoH2, df_H2_CAP_BLUE_tot_NoH2Import, Countries_from, YEAR, \"Blue Capacity\")\n",
    "    FA.Violin_Setups(df_H2_PRO_GREEN_BASE_scen, df_H2_PRO_GREEN_NoH2_scen, df_H2_PRO_GREEN_NoH2Import_scen, df_H2_PRO_GREEN_tot_BASE, df_H2_PRO_GREEN_tot_NoH2, df_H2_PRO_GREEN_tot_NoH2Import, Countries_from, YEAR, \"Green Production\")\n",
    "    FA.Violin_Setups(df_H2_PRO_BLUE_BASE_scen, df_H2_PRO_BLUE_NoH2_scen, df_H2_PRO_BLUE_NoH2Import_scen, df_H2_PRO_BLUE_tot_BASE, df_H2_PRO_BLUE_tot_NoH2, df_H2_PRO_BLUE_tot_NoH2Import, Countries_from, YEAR, \"Blue Production\")\n",
    "    FA.Violin_Setups(df_H2_PRO_STO_BASE_scen, df_H2_PRO_STO_NoH2_scen, df_H2_PRO_STO_NoH2Import_scen, df_H2_PRO_STO_tot_BASE, df_H2_PRO_STO_tot_NoH2, df_H2_PRO_STO_tot_NoH2Import, Countries_from, YEAR, \"Storage\")\n",
    "    FA.Violin_Setups(df_XH2_CAP_tot_BASE_scen, df_XH2_CAP_tot_NoH2_scen, df_XH2_CAP_tot_NoH2Import_scen, XH2_CAP_TO_BASE, XH2_CAP_TO_NoH2, XH2_CAP_TO_NoH2Import, Countries_from, YEAR, \"Transmission Capacity\")\n",
    "    FA.Violin_Setups(df_XH2_FLOW_tot_BASE_scen, df_XH2_FLOW_tot_NoH2_scen, df_XH2_FLOW_tot_NoH2Import_scen, XH2_FLOW_TO_BASE, XH2_FLOW_TO_NoH2, XH2_FLOW_TO_NoH2Import, Countries_from, YEAR, \"Transmission Flow\")\n",
    "    "
   ]
  },
  {
   "cell_type": "code",
   "execution_count": 19,
   "metadata": {},
   "outputs": [],
   "source": [
    "def CCS_Analysis(MainResults_path, YEAR) :\n",
    "    # Import results of the Main Result file\n",
    "    result = FA.Import_CCS(MainResults_path,YEAR)\n",
    "    print(f\"The total captured CO2 for {YEAR} is {result} kton\")\n",
    "    return result"
   ]
  },
  {
   "cell_type": "code",
   "execution_count": 20,
   "metadata": {},
   "outputs": [],
   "source": [
    "def RE_Analysis(Input_data_path, MonteCarlo_path, Countries, YEAR) :\n",
    "    df_SUBTECH = FA.Import_Data(Input_data_path)\n",
    "    df_RE_SUBTECH = FA.LIM_RE_CAP_scen(df_SUBTECH)\n",
    "    df_PRO, df_CAP, df_XH2_CAP, df_XH2_FLOW, scen = FA.Import_MonteCarlo(MonteCarlo_path)\n",
    "    df_RE_CAP = FA.RE_CAP_scen(df_CAP, YEAR)\n",
    "    \n",
    "    FA.RE_CAP(df_RE_CAP, Countries, YEAR)\n",
    "    FA.COMP_RE_LIM(df_RE_SUBTECH, df_RE_CAP, Countries, YEAR)\n",
    "    "
   ]
  }
 ],
 "metadata": {
  "kernelspec": {
   "display_name": "gams",
   "language": "python",
   "name": "python3"
  },
  "language_info": {
   "codemirror_mode": {
    "name": "ipython",
    "version": 3
   },
   "file_extension": ".py",
   "mimetype": "text/x-python",
   "name": "python",
   "nbconvert_exporter": "python",
   "pygments_lexer": "ipython3",
   "version": "3.12.4"
  }
 },
 "nbformat": 4,
 "nbformat_minor": 2
}
